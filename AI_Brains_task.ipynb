{
  "nbformat": 4,
  "nbformat_minor": 0,
  "metadata": {
    "colab": {
      "provenance": []
    },
    "kernelspec": {
      "name": "python3",
      "display_name": "Python 3"
    },
    "language_info": {
      "name": "python"
    }
  },
  "cells": [
    {
      "cell_type": "code",
      "source": [
        "import pandas as pd\n",
        "\n",
        "# Replace 'input.json' with the path to your JSON file\n",
        "json_file_path = ''\n",
        "\n",
        "# Read the JSON file into a pandas DataFrame\n",
        "data = pd.read_json(json_file_path)\n",
        "\n",
        "# Replace 'output.csv' with the desired path for your CSV file\n",
        "csv_file_path = 'output.csv'\n",
        "\n",
        "# Write the DataFrame to a CSV file\n",
        "data.to_csv(csv_file_path, index=False)\n",
        "\n",
        "print(f\"Conversion complete. Data saved to {csv_file_path}\")\n"
      ],
      "metadata": {
        "colab": {
          "base_uri": "https://localhost:8080/"
        },
        "id": "nBNa1O0yNumh",
        "outputId": "fdbb977f-121f-44d8-c761-eb02ca853e59"
      },
      "execution_count": 1,
      "outputs": [
        {
          "output_type": "stream",
          "name": "stdout",
          "text": [
            "Conversion complete. Data saved to output.csv\n"
          ]
        }
      ]
    },
    {
      "cell_type": "code",
      "source": [
        "import pandas as pd\n",
        "\n",
        "# Replace 'your_excel_file.xlsx' with the path to your Excel file\n",
        "excel_file_path = '/content/On_Time_On_Time_Performance_2016_1.csv'\n",
        "df=pd.read_excel(excel_file_path)\n",
        "\n",
        "# Replace the column names in the list with the columns you want to extract\n",
        "columns_to_extract = ['FlightDate','Quarter','Year', 'Month','DayofMonth','DepTime','DepDel15','CRSDepTime','DepDelayMinutes', 'Origin', 'Dest', 'ArrTime','CRSArrTime', 'ArrDel15(label)','ArrDelayMinutes(target)']\n",
        "\n",
        "extracted_data = df[columns_to_extract]\n",
        "\n",
        "# Replace 'output.xlsx' with the desired path for your new Excel file\n",
        "output_excel_path = 'output.xlsx'\n",
        "\n",
        "# Write the extracted data to a new Excel file\n",
        "extracted_data.to_excel(output_excel_path, index=False)\n",
        "\n",
        "print(f\"Extraction complete. Data saved to {output_excel_path}\")\n"
      ],
      "metadata": {
        "id": "3qWcnfuLQnyc"
      },
      "execution_count": null,
      "outputs": []
    }
  ]
}